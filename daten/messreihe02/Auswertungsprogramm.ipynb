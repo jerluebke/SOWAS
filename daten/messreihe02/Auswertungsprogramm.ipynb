{
 "cells": [
  {
   "cell_type": "markdown",
   "metadata": {},
   "source": [
    "<p>Program zur Auswertung der erhobenen Messdaten</p>\n",
    "<p>Vor der Bedienung zunächst die ersten beiden Blöcke kompilieren! Anschließend müssen in Block 3 die Namen der .txt Dateien in einer Liste angegeben werden. In der gleichen Reihenfolge wie bei den .txt Dateien werden nun die zugehörigen Abstände in einer weiteren Liste als floats/integers angegeben. Zuletzt wird noch der Name der zu erstellenden Datei angegeben. Fertig!</p>\n",
    "<p>Mit den Argumenten \"xscale\" und \"yscale\" kann die Skalierung der Achsen gewählt werden. Das Argument \"papier\" ist nötig um den Titel anzupassen. Hier wird die Körnung des verwendeten Papiers eingesetzt.</p>\n",
    "<p>Weitere Funktionen für die Winkelgeschwindigkeit werden noch Folgen. Ansonsten darf natürlcih auch einer von euch hier weitere Funktionen erstellen.</p>\n"
   ]
  },
  {
   "cell_type": "code",
   "execution_count": 19,
   "metadata": {
    "collapsed": true
   },
   "outputs": [],
   "source": [
    "import pandas as pd\n",
    "import numpy as np\n",
    "import matplotlib.pyplot as plt"
   ]
  },
  {
   "cell_type": "code",
   "execution_count": 20,
   "metadata": {
    "collapsed": true
   },
   "outputs": [],
   "source": [
    "#fuctions\n",
    "def create_index(dataframe, spacing):\n",
    "    L1 = [spacing*c for c in range(len(dataframe.index))]\n",
    "    index = pd.DataFrame({\"Position\":L1})\n",
    "    temp = pd.concat([index, dataframe], axis=1)\n",
    "    temp.set_index(\"Position\", inplace=True)\n",
    "    return temp\n",
    "\n",
    "def time_diff(dataframe):\n",
    "    L2 = [dataframe[\"Time\"][c+1]-dataframe[\"Time\"][c] for c in range(0, len(dataframe.index)-1)]\n",
    "    L2 = [np.nan] + L2\n",
    "    diff = pd.DataFrame({\"Time Diff.\":L2})\n",
    "    return pd.concat([dataframe, diff], axis=1)\n",
    "\n",
    "def array_velocity(dataframe, space):\n",
    "    L = [(space/c) for c in dataframe[\"Time Diff.\"]]\n",
    "    vel = pd.DataFrame({\"Array Vel.\":L})\n",
    "    return pd.concat([dataframe, vel], axis=1)\n",
    "\n",
    "#def approx_angularvel(dataframe, space):\n",
    "    #lamb = space - h(in cm)\n",
    "    #psi = np.sin(lamb/L(in cm))\n",
    "    #L = [psi/c for c in dataframe[\"Time  Diff.\"]]\n",
    "    #L = [np.nan] + L\n",
    "    #angvel = pd.DataFrame({\"Angular Vel.\":L})\n",
    "    #return pd.concat([dataframe, vel], axis=1)\n",
    "\n",
    "def compute(dataframe, spacing):\n",
    "    dataframe = time_diff(dataframe)\n",
    "    dataframe = array_velocity(dataframe, spacing)\n",
    "    #dataframe = approx_angularvel(dataframe, spacing)\n",
    "    #more code\n",
    "    return create_index(dataframe, spacing)\n",
    "\n",
    "def plot_arrayvel(frames, spacings, filename, xscale, yscale, papier):\n",
    "    for k in range(len(spacings)):\n",
    "        plt.scatter(frames[k].index, frames[k][\"Array Vel.\"], label=\"d=\"+str(spacings[k]), marker=str(k+1), s=20)\n",
    "    plt.xlabel(\"Position x [cm]\")\n",
    "    plt.ylabel(\"V [cm/s]\")\n",
    "    plt.title(str(papier)+\"er Papier, Transversalgeschwindigkeit v für verschiedene Abstände d\")\n",
    "    plt.legend()\n",
    "    plt.axis(xscale + yscale)\n",
    "    plt.grid(True)\n",
    "    plt.savefig(filename, dpi=1000)\n",
    "    \n",
    "def get_data(filenames, spacings):\n",
    "    frames = [pd.read_csv(c) for c in filenames]\n",
    "    L = []\n",
    "    for k in range(len(filenames)):\n",
    "        L.append(compute(frames[k], spacings[k]))\n",
    "    return L"
   ]
  },
  {
   "cell_type": "code",
   "execution_count": 21,
   "metadata": {},
   "outputs": [
    {
     "data": {
      "image/png": "[encoded data removed]",
      "text/plain": [
       "<matplotlib.figure.Figure at 0x29885cb3e48>"
      ]
     },
     "metadata": {},
     "output_type": "display_data"
    }
   ],
   "source": [
    "files = [\"80_03.txt\", \"80_04.txt\"]\n",
    "spaces = [3, 4]\n",
    "filename = \"Plot1.jpg\"\n",
    "\n",
    "plot_arrayvel(get_data(files, spaces), spaces, filename, xscale=[0,160], yscale=[50, 120], papier=80)"
   ]
  }
 ],
 "metadata": {
  "kernelspec": {
   "display_name": "Python 3",
   "language": "python",
   "name": "python3"
  },
  "language_info": {
   "codemirror_mode": {
    "name": "ipython",
    "version": 3
   },
   "file_extension": ".py",
   "mimetype": "text/x-python",
   "name": "python",
   "nbconvert_exporter": "python",
   "pygments_lexer": "ipython3",
   "version": "3.6.3"
  }
 },
 "nbformat": 4,
 "nbformat_minor": 2
}
